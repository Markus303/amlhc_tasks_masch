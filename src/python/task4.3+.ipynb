{
 "cells": [
  {
   "cell_type": "markdown",
   "metadata": {},
   "source": [
    "# Task 4.3+ Supervised Learning - Regression and hyperparameter tuning\n",
    "### Modul 12: Application of Machine Learning in Health Care\n",
    "**Author:** Markus Schwaiger\n",
    "\n",
    "**Date:** May 21, 2024\n",
    "\n",
    "---"
   ]
  },
  {
   "cell_type": "markdown",
   "metadata": {},
   "source": [
    "- Load dataset Blood-Brain Barrier Data.\n",
    "- Split the dataset into a training (75%) and test (25%) set.\n",
    "- Select a learning method such as random forest. Use preprocessing (scaling/centering) if necessary.\n",
    "- Perform a 10-fold cross validation using trainControl parameter of method train.\n",
    "- Analyze the performance values and feature importances.\n",
    "- Apply the final model to the test set and calculate performance measures.\n",
    "IMPORTANT: If you use preprocessing you need to apply the transformation to the test by using predict function.\n",
    "- Update your git-repository."
   ]
  },
  {
   "cell_type": "code",
   "execution_count": 12,
   "metadata": {},
   "outputs": [],
   "source": [
    "import pandas as pd\n",
    "import numpy as np\n",
    "from sklearn.model_selection import train_test_split, GridSearchCV,cross_val_score\n",
    "from sklearn.preprocessing import StandardScaler\n",
    "from sklearn.ensemble import RandomForestRegressor\n",
    "from sklearn.metrics import mean_squared_error, r2_score, mean_absolute_error"
   ]
  },
  {
   "cell_type": "markdown",
   "metadata": {},
   "source": [
    "## Load dataset Blood-Brain Barrier Data"
   ]
  },
  {
   "cell_type": "code",
   "execution_count": 13,
   "metadata": {},
   "outputs": [],
   "source": [
    "X = pd.read_csv(\"../data/BloodBrain_descriptors.csv\", index_col=0)\n",
    "y = pd.read_csv(\"../data/BloodBrain_logBBB.csv\").squeeze()"
   ]
  },
  {
   "cell_type": "markdown",
   "metadata": {},
   "source": [
    "# Split the dataset into training (75%) and test (25%) sets"
   ]
  },
  {
   "cell_type": "code",
   "execution_count": 14,
   "metadata": {},
   "outputs": [],
   "source": [
    "X_train, X_test, y_train, y_test = train_test_split(X, y, test_size=0.25, random_state=42)"
   ]
  },
  {
   "cell_type": "markdown",
   "metadata": {},
   "source": [
    "- Check the Split"
   ]
  },
  {
   "cell_type": "code",
   "execution_count": 15,
   "metadata": {},
   "outputs": [
    {
     "name": "stdout",
     "output_type": "stream",
     "text": [
      "(156, 134) (52, 134)\n"
     ]
    }
   ],
   "source": [
    "print(X_train.shape, X_test.shape)"
   ]
  },
  {
   "cell_type": "markdown",
   "metadata": {},
   "source": [
    "# Set up preprocessing (scaling/centering) and apply to the training data"
   ]
  },
  {
   "cell_type": "code",
   "execution_count": 16,
   "metadata": {},
   "outputs": [],
   "source": [
    "scaler = StandardScaler()\n",
    "X_train = scaler.fit_transform(X_train)"
   ]
  },
  {
   "cell_type": "markdown",
   "metadata": {},
   "source": [
    "# Train and evaluate the model\n",
    "- learning method: random forest"
   ]
  },
  {
   "cell_type": "code",
   "execution_count": 17,
   "metadata": {},
   "outputs": [],
   "source": [
    "rf_model = RandomForestRegressor(random_state=123)\n",
    "param_grid = {\n",
    "    'n_estimators': [100, 200, 300],\n",
    "    'max_features': ['sqrt', 'log2', None],\n",
    "    'max_depth': [4, 6, 8, 10, None]\n",
    "}\n",
    "# Perform a 10-fold cross-validation using GridSearchCV\n",
    "grid_search = GridSearchCV(estimator=rf_model, param_grid=param_grid, cv=10, scoring='neg_mean_squared_error', n_jobs=-1)\n",
    "grid_search.fit(X_train, y_train)\n",
    "best_rf = grid_search.best_estimator_"
   ]
  },
  {
   "cell_type": "markdown",
   "metadata": {},
   "source": [
    "# Analyze the performance values and feature importance"
   ]
  },
  {
   "cell_type": "code",
   "execution_count": 18,
   "metadata": {},
   "outputs": [
    {
     "name": "stdout",
     "output_type": "stream",
     "text": [
      "Cross-validated RMSE: 0.5037022429795923 (± 0.08936662284154512)\n",
      "Top 10 Feature Importances:\n",
      "1. Feature 'tcnp' (0.0406)\n",
      "2. Feature 'fnsa3' (0.0400)\n",
      "3. Feature 'polar_area' (0.0340)\n",
      "4. Feature 'scaa3' (0.0334)\n",
      "5. Feature 'most_positive_charge' (0.0318)\n",
      "6. Feature 'psa_npsa' (0.0285)\n",
      "7. Feature 'tpsa' (0.0239)\n",
      "8. Feature 'scaa1' (0.0211)\n",
      "9. Feature 'tcsa' (0.0208)\n",
      "10. Feature 'rpcg' (0.0205)\n"
     ]
    }
   ],
   "source": [
    "# Get cross-validation scores for the best model\n",
    "cv_scores = cross_val_score(best_rf, X_train, y_train, cv=10, scoring='neg_mean_squared_error')\n",
    "cv_rmse = np.sqrt(-cv_scores)\n",
    "print(f\"Cross-validated RMSE: {cv_rmse.mean()} (± {cv_rmse.std()})\")\n",
    "\n",
    "# Feature importances from the best model\n",
    "feature_names = X.columns # Get the column names of the features\n",
    "importances = best_rf.feature_importances_\n",
    "indices = importances.argsort()[::-1]\n",
    "print(\"Top 10 Feature Importances:\")\n",
    "for f in range(10):\n",
    "    print(f\"{f + 1}. Feature '{feature_names[indices[f]]}' ({importances[indices[f]]:.4f})\")"
   ]
  },
  {
   "cell_type": "markdown",
   "metadata": {},
   "source": [
    "# Apply preprocessing to the test data"
   ]
  },
  {
   "cell_type": "code",
   "execution_count": 19,
   "metadata": {},
   "outputs": [],
   "source": [
    "X_test = scaler.transform(X_test)"
   ]
  },
  {
   "cell_type": "markdown",
   "metadata": {},
   "source": [
    "# Predict on the test data using the final model (best_rf)"
   ]
  },
  {
   "cell_type": "code",
   "execution_count": 20,
   "metadata": {},
   "outputs": [
    {
     "name": "stdout",
     "output_type": "stream",
     "text": [
      "RMSE: 0.49840272245724876\n",
      "R-squared: 0.4058076559864354\n",
      "MAE: 0.3820643203669778\n"
     ]
    }
   ],
   "source": [
    "y_pred = best_rf.predict(X_test)\n",
    "rmse = np.sqrt(mean_squared_error(y_test, y_pred))\n",
    "r2 = r2_score(y_test, y_pred)\n",
    "mae = mean_absolute_error(y_test, y_pred)\n",
    "print(f\"RMSE: {rmse}\")\n",
    "print(f\"R-squared: {r2}\")\n",
    "print(f\"MAE: {mae}\")"
   ]
  }
 ],
 "metadata": {
  "kernelspec": {
   "display_name": "Python 3",
   "language": "python",
   "name": "python3"
  },
  "language_info": {
   "codemirror_mode": {
    "name": "ipython",
    "version": 3
   },
   "file_extension": ".py",
   "mimetype": "text/x-python",
   "name": "python",
   "nbconvert_exporter": "python",
   "pygments_lexer": "ipython3",
   "version": "3.12.2"
  }
 },
 "nbformat": 4,
 "nbformat_minor": 2
}
