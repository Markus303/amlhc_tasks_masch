{
 "cells": [
  {
   "cell_type": "markdown",
   "metadata": {},
   "source": [
    "# Task 4.4+ Supervised Learning - Classification and hyperparameter tuning\n",
    "### Modul 12: Application of Machine Learning in Health Care\n",
    "**Author:** Markus Schwaiger\n",
    "\n",
    "**Date:** May 21, 2024\n",
    "\n",
    "---"
   ]
  },
  {
   "cell_type": "markdown",
   "metadata": {},
   "source": [
    "- Load dataset COX-2 Activity Data\n",
    "- Split the dataset into a training (75%) and test (25%) set.\n",
    "- Select a learning method such as random forest. Use preprocessing (scaling/centering) if necessary.\n",
    "- Perform a 10-fold cross validation using trainControl parameter of method train.\n",
    "- Analyze the performance values and feature importances.\n",
    "- Apply the final model to the test set and calculate performance measures.\n",
    "IMPORTANT: If you use preprocessing you need to apply the transformation to the test by using predict function.\n",
    "- Update your git-repository."
   ]
  },
  {
   "cell_type": "code",
   "execution_count": 1,
   "metadata": {},
   "outputs": [],
   "source": [
    "import pandas as pd\n",
    "from sklearn.model_selection import train_test_split, GridSearchCV\n",
    "from sklearn.preprocessing import StandardScaler\n",
    "from sklearn.ensemble import RandomForestClassifier\n",
    "from sklearn.preprocessing import LabelEncoder\n",
    "from sklearn.metrics import confusion_matrix, accuracy_score, classification_report"
   ]
  },
  {
   "cell_type": "markdown",
   "metadata": {},
   "source": []
  },
  {
   "cell_type": "markdown",
   "metadata": {},
   "source": [
    "## Load dataset BCOX-2 Activity"
   ]
  },
  {
   "cell_type": "code",
   "execution_count": 2,
   "metadata": {},
   "outputs": [],
   "source": [
    "X = pd.read_csv(\"../data/cox2Descr.csv\")\n",
    "y = pd.read_csv(\"../data/cox2Class.csv\").squeeze()"
   ]
  },
  {
   "cell_type": "markdown",
   "metadata": {},
   "source": [
    "# Split the dataset into training (75%) and test (25%) sets"
   ]
  },
  {
   "cell_type": "code",
   "execution_count": 3,
   "metadata": {},
   "outputs": [],
   "source": [
    "X_train, X_test, y_train, y_test = train_test_split(X, y, test_size=0.25, random_state=42)"
   ]
  },
  {
   "cell_type": "markdown",
   "metadata": {},
   "source": [
    "- Check the Split"
   ]
  },
  {
   "cell_type": "code",
   "execution_count": 4,
   "metadata": {},
   "outputs": [
    {
     "name": "stdout",
     "output_type": "stream",
     "text": [
      "(346, 255) (116, 255)\n"
     ]
    }
   ],
   "source": [
    "print(X_train.shape, X_test.shape)"
   ]
  },
  {
   "cell_type": "markdown",
   "metadata": {},
   "source": [
    "# Set up preprocessing (scaling/centering) and apply to the training data"
   ]
  },
  {
   "cell_type": "code",
   "execution_count": 5,
   "metadata": {},
   "outputs": [],
   "source": [
    "scaler = StandardScaler()\n",
    "X_train = scaler.fit_transform(X_train)"
   ]
  },
  {
   "cell_type": "markdown",
   "metadata": {},
   "source": [
    "# Train and evaluate the model\n",
    "- learning method: random forest"
   ]
  },
  {
   "cell_type": "code",
   "execution_count": 6,
   "metadata": {},
   "outputs": [],
   "source": [
    "label_encoder = LabelEncoder() \n",
    "y_train_encoded = label_encoder.fit_transform(y_train) # Encode categorical labels\n",
    "\n",
    "# Train the RandomForestClassifier\n",
    "rf_model = RandomForestClassifier(random_state=123)\n",
    "param_grid = {\n",
    "    'n_estimators': [100, 200, 300],\n",
    "    'max_features': ['sqrt', 'log2', None],\n",
    "    'max_depth': [4, 6, 8, 10, None]\n",
    "}\n",
    "grid_search = GridSearchCV(estimator=rf_model, param_grid=param_grid, cv=10, scoring='accuracy', n_jobs=-1)\n",
    "grid_search.fit(X_train, y_train_encoded)\n",
    "best_rf = grid_search.best_estimator_"
   ]
  },
  {
   "cell_type": "markdown",
   "metadata": {},
   "source": [
    "# Analyze the performance values and feature importance"
   ]
  },
  {
   "cell_type": "code",
   "execution_count": 7,
   "metadata": {},
   "outputs": [
    {
     "name": "stdout",
     "output_type": "stream",
     "text": [
      "Best Accuracy: 0.8646218487394958\n",
      "Top 10 Feature Importances:\n",
      "1. Feature 'QikProp_QPlogKhsa' (0.0170)\n",
      "2. Feature 'QikProp_QPPCaco' (0.0162)\n",
      "3. Feature 'QikProp_QPlogS' (0.0158)\n",
      "4. Feature 'QikProp_QPlogPo.w' (0.0125)\n",
      "5. Feature 'moe2D_logS' (0.0116)\n",
      "6. Feature 'QikProp_QPPMDCK' (0.0115)\n",
      "7. Feature 'moe2D_logP.o.w.' (0.0115)\n",
      "8. Feature 'QikProp_IP.eV.' (0.0111)\n",
      "9. Feature 'QikProp_accptHB' (0.0108)\n",
      "10. Feature 'QikProp_QPlogKp' (0.0106)\n"
     ]
    }
   ],
   "source": [
    "accuracy = grid_search.best_score_\n",
    "print(\"Best Accuracy:\", accuracy)\n",
    "\n",
    "# Feature importances from the best model\n",
    "feature_names = X.columns # Get the column names of the features\n",
    "importances = best_rf.feature_importances_\n",
    "indices = importances.argsort()[::-1]\n",
    "print(\"Top 10 Feature Importances:\")\n",
    "for f in range(10):\n",
    "    print(f\"{f + 1}. Feature '{feature_names[indices[f]]}' ({importances[indices[f]]:.4f})\")"
   ]
  },
  {
   "cell_type": "markdown",
   "metadata": {},
   "source": [
    "# Apply preprocessing to the test data"
   ]
  },
  {
   "cell_type": "code",
   "execution_count": 8,
   "metadata": {},
   "outputs": [],
   "source": [
    "X_test = scaler.transform(X_test)"
   ]
  },
  {
   "cell_type": "markdown",
   "metadata": {},
   "source": [
    "# Predict on the test data using the final model (best_rf)"
   ]
  },
  {
   "cell_type": "code",
   "execution_count": 9,
   "metadata": {},
   "outputs": [
    {
     "name": "stdout",
     "output_type": "stream",
     "text": [
      "Confusion Matrix:\n",
      "[[ 7 19]\n",
      " [ 6 84]]\n",
      "\n",
      "Accuracy: 0.7844827586206896\n"
     ]
    }
   ],
   "source": [
    "y_pred = best_rf.predict(X_test)\n",
    "y_test_encoded = label_encoder.fit_transform(y_test) # Encode categorical labels\n",
    "conf_matrix = confusion_matrix(y_test_encoded, y_pred)\n",
    "accuracy = accuracy_score(y_test_encoded, y_pred)\n",
    "\n",
    "print(\"Confusion Matrix:\")\n",
    "print(conf_matrix)\n",
    "print(\"\\nAccuracy:\", accuracy)"
   ]
  }
 ],
 "metadata": {
  "kernelspec": {
   "display_name": "Python 3",
   "language": "python",
   "name": "python3"
  },
  "language_info": {
   "codemirror_mode": {
    "name": "ipython",
    "version": 3
   },
   "file_extension": ".py",
   "mimetype": "text/x-python",
   "name": "python",
   "nbconvert_exporter": "python",
   "pygments_lexer": "ipython3",
   "version": "3.12.2"
  }
 },
 "nbformat": 4,
 "nbformat_minor": 2
}
